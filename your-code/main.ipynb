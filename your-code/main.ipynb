{
 "cells": [
  {
   "cell_type": "markdown",
   "metadata": {},
   "source": [
    "# Lab | Numpy Deep Dive"
   ]
  },
  {
   "cell_type": "markdown",
   "metadata": {},
   "source": [
    "### 1. Import the NUMPY package under the name np.\n"
   ]
  },
  {
   "cell_type": "code",
   "execution_count": 1,
   "metadata": {},
   "outputs": [],
   "source": [
    "import numpy as np"
   ]
  },
  {
   "cell_type": "markdown",
   "metadata": {},
   "source": [
    "\n",
    "\n",
    "### 2. Print the NUMPY version and the configuration.\n"
   ]
  },
  {
   "cell_type": "code",
   "execution_count": 2,
   "metadata": {},
   "outputs": [
    {
     "data": {
      "text/plain": [
       "'1.24.4'"
      ]
     },
     "execution_count": 2,
     "metadata": {},
     "output_type": "execute_result"
    }
   ],
   "source": [
    "np.__version__"
   ]
  },
  {
   "cell_type": "code",
   "execution_count": 3,
   "metadata": {},
   "outputs": [
    {
     "name": "stdout",
     "output_type": "stream",
     "text": [
      "openblas64__info:\n",
      "    libraries = ['openblas64_', 'openblas64_']\n",
      "    library_dirs = ['openblas\\\\lib']\n",
      "    language = c\n",
      "    define_macros = [('HAVE_CBLAS', None), ('BLAS_SYMBOL_SUFFIX', '64_'), ('HAVE_BLAS_ILP64', None)]\n",
      "    runtime_library_dirs = ['openblas\\\\lib']\n",
      "blas_ilp64_opt_info:\n",
      "    libraries = ['openblas64_', 'openblas64_']\n",
      "    library_dirs = ['openblas\\\\lib']\n",
      "    language = c\n",
      "    define_macros = [('HAVE_CBLAS', None), ('BLAS_SYMBOL_SUFFIX', '64_'), ('HAVE_BLAS_ILP64', None)]\n",
      "    runtime_library_dirs = ['openblas\\\\lib']\n",
      "openblas64__lapack_info:\n",
      "    libraries = ['openblas64_', 'openblas64_']\n",
      "    library_dirs = ['openblas\\\\lib']\n",
      "    language = c\n",
      "    define_macros = [('HAVE_CBLAS', None), ('BLAS_SYMBOL_SUFFIX', '64_'), ('HAVE_BLAS_ILP64', None), ('HAVE_LAPACKE', None)]\n",
      "    runtime_library_dirs = ['openblas\\\\lib']\n",
      "lapack_ilp64_opt_info:\n",
      "    libraries = ['openblas64_', 'openblas64_']\n",
      "    library_dirs = ['openblas\\\\lib']\n",
      "    language = c\n",
      "    define_macros = [('HAVE_CBLAS', None), ('BLAS_SYMBOL_SUFFIX', '64_'), ('HAVE_BLAS_ILP64', None), ('HAVE_LAPACKE', None)]\n",
      "    runtime_library_dirs = ['openblas\\\\lib']\n",
      "Supported SIMD extensions in this NumPy install:\n",
      "    baseline = SSE,SSE2,SSE3\n",
      "    found = SSSE3,SSE41,POPCNT,SSE42,AVX,F16C,FMA3,AVX2\n",
      "    not found = AVX512F,AVX512CD,AVX512_SKX,AVX512_CLX,AVX512_CNL,AVX512_ICL\n"
     ]
    }
   ],
   "source": [
    "np.show_config()"
   ]
  },
  {
   "cell_type": "markdown",
   "metadata": {},
   "source": [
    "### 3. Generate a 2x3x5 3-dimensional array with random values. Assign the array to variable \"a\"\n",
    "Challenge: there are at least three easy ways that use numpy to generate random arrays. How many ways can you find?\n"
   ]
  },
  {
   "cell_type": "code",
   "execution_count": 4,
   "metadata": {},
   "outputs": [],
   "source": [
    "# a = np.random.rand(2, 3, 5)\n",
    "a = np.random.random((2,3,5))"
   ]
  },
  {
   "cell_type": "markdown",
   "metadata": {},
   "source": [
    "\n",
    "### 4. Print a.\n"
   ]
  },
  {
   "cell_type": "code",
   "execution_count": 5,
   "metadata": {},
   "outputs": [
    {
     "data": {
      "text/plain": [
       "array([[[0.7876309 , 0.58625562, 0.11670891, 0.63880881, 0.78874415],\n",
       "        [0.46695047, 0.09601872, 0.84033469, 0.88726176, 0.10562818],\n",
       "        [0.06752735, 0.57507193, 0.39118953, 0.26461573, 0.24300379]],\n",
       "\n",
       "       [[0.58639376, 0.19097637, 0.63695705, 0.82543976, 0.8749271 ],\n",
       "        [0.06428118, 0.06096681, 0.29987612, 0.83118993, 0.64619216],\n",
       "        [0.0219458 , 0.25629004, 0.37182517, 0.13425789, 0.05776747]]])"
      ]
     },
     "execution_count": 5,
     "metadata": {},
     "output_type": "execute_result"
    }
   ],
   "source": [
    "a"
   ]
  },
  {
   "cell_type": "markdown",
   "metadata": {},
   "source": [
    "### 5. Create a 5x2x3 3-dimensional array with all values equaling 1.\n",
    "### Assign the array to variable \"b\"\n"
   ]
  },
  {
   "cell_type": "code",
   "execution_count": 6,
   "metadata": {},
   "outputs": [],
   "source": [
    "b = np.ones((5,3,2))"
   ]
  },
  {
   "cell_type": "markdown",
   "metadata": {},
   "source": [
    "\n",
    "### 6. Print b.\n"
   ]
  },
  {
   "cell_type": "code",
   "execution_count": 7,
   "metadata": {},
   "outputs": [
    {
     "data": {
      "text/plain": [
       "array([[[1., 1.],\n",
       "        [1., 1.],\n",
       "        [1., 1.]],\n",
       "\n",
       "       [[1., 1.],\n",
       "        [1., 1.],\n",
       "        [1., 1.]],\n",
       "\n",
       "       [[1., 1.],\n",
       "        [1., 1.],\n",
       "        [1., 1.]],\n",
       "\n",
       "       [[1., 1.],\n",
       "        [1., 1.],\n",
       "        [1., 1.]],\n",
       "\n",
       "       [[1., 1.],\n",
       "        [1., 1.],\n",
       "        [1., 1.]]])"
      ]
     },
     "execution_count": 7,
     "metadata": {},
     "output_type": "execute_result"
    }
   ],
   "source": [
    "b"
   ]
  },
  {
   "cell_type": "markdown",
   "metadata": {},
   "source": [
    "\n",
    "### 7. Do a and b have the same size? How do you prove that in Python code?\n"
   ]
  },
  {
   "cell_type": "code",
   "execution_count": 8,
   "metadata": {},
   "outputs": [
    {
     "name": "stdout",
     "output_type": "stream",
     "text": [
      "Size of a =  30\n",
      "Size of b =  30\n",
      "Do a and b have the same size ? True\n"
     ]
    }
   ],
   "source": [
    "print(\"Size of a = \",a.size)\n",
    "print(\"Size of b = \",b.size)\n",
    "print(\"Do a and b have the same size ?\", a.size == b.size)"
   ]
  },
  {
   "cell_type": "markdown",
   "metadata": {},
   "source": [
    "\n",
    "### 8. Are you able to add a and b? Why or why not?\n"
   ]
  },
  {
   "cell_type": "code",
   "execution_count": 9,
   "metadata": {},
   "outputs": [],
   "source": [
    "#No, because they have different shape"
   ]
  },
  {
   "cell_type": "markdown",
   "metadata": {},
   "source": [
    "\n",
    "\n",
    "### 9. Transpose b so that it has the same structure of a (i.e. become a 2x3x5 array). Assign the transposed array to varialbe \"c\".\n"
   ]
  },
  {
   "cell_type": "code",
   "execution_count": 10,
   "metadata": {},
   "outputs": [
    {
     "data": {
      "text/plain": [
       "array([[[1., 1., 1., 1., 1.],\n",
       "        [1., 1., 1., 1., 1.],\n",
       "        [1., 1., 1., 1., 1.]],\n",
       "\n",
       "       [[1., 1., 1., 1., 1.],\n",
       "        [1., 1., 1., 1., 1.],\n",
       "        [1., 1., 1., 1., 1.]]])"
      ]
     },
     "execution_count": 10,
     "metadata": {},
     "output_type": "execute_result"
    }
   ],
   "source": [
    "c = b.T\n",
    "c"
   ]
  },
  {
   "cell_type": "markdown",
   "metadata": {},
   "source": [
    "\n",
    "### 10. Try to add a and c. Now it should work. Assign the sum to variable \"d\". But why does it work now?\n"
   ]
  },
  {
   "cell_type": "code",
   "execution_count": 11,
   "metadata": {},
   "outputs": [
    {
     "data": {
      "text/plain": [
       "array([[[1.7876309 , 1.58625562, 1.11670891, 1.63880881, 1.78874415],\n",
       "        [1.46695047, 1.09601872, 1.84033469, 1.88726176, 1.10562818],\n",
       "        [1.06752735, 1.57507193, 1.39118953, 1.26461573, 1.24300379]],\n",
       "\n",
       "       [[1.58639376, 1.19097637, 1.63695705, 1.82543976, 1.8749271 ],\n",
       "        [1.06428118, 1.06096681, 1.29987612, 1.83118993, 1.64619216],\n",
       "        [1.0219458 , 1.25629004, 1.37182517, 1.13425789, 1.05776747]]])"
      ]
     },
     "execution_count": 11,
     "metadata": {},
     "output_type": "execute_result"
    }
   ],
   "source": [
    "d = a + c\n",
    "d"
   ]
  },
  {
   "cell_type": "markdown",
   "metadata": {},
   "source": [
    "\n",
    "### 11. Print a and d. Notice the difference and relation of the two array in terms of the values? Explain.\n"
   ]
  },
  {
   "cell_type": "code",
   "execution_count": 12,
   "metadata": {},
   "outputs": [
    {
     "name": "stdout",
     "output_type": "stream",
     "text": [
      "[[[0.7876309  0.58625562 0.11670891 0.63880881 0.78874415]\n",
      "  [0.46695047 0.09601872 0.84033469 0.88726176 0.10562818]\n",
      "  [0.06752735 0.57507193 0.39118953 0.26461573 0.24300379]]\n",
      "\n",
      " [[0.58639376 0.19097637 0.63695705 0.82543976 0.8749271 ]\n",
      "  [0.06428118 0.06096681 0.29987612 0.83118993 0.64619216]\n",
      "  [0.0219458  0.25629004 0.37182517 0.13425789 0.05776747]]]\n",
      "\n",
      "\n",
      "\n",
      "[[[1.7876309  1.58625562 1.11670891 1.63880881 1.78874415]\n",
      "  [1.46695047 1.09601872 1.84033469 1.88726176 1.10562818]\n",
      "  [1.06752735 1.57507193 1.39118953 1.26461573 1.24300379]]\n",
      "\n",
      " [[1.58639376 1.19097637 1.63695705 1.82543976 1.8749271 ]\n",
      "  [1.06428118 1.06096681 1.29987612 1.83118993 1.64619216]\n",
      "  [1.0219458  1.25629004 1.37182517 1.13425789 1.05776747]]]\n"
     ]
    }
   ],
   "source": [
    "print(a)\n",
    "print('\\n\\n')\n",
    "print(d)"
   ]
  },
  {
   "cell_type": "markdown",
   "metadata": {},
   "source": [
    "\n",
    "### 12. Multiply a and c. Assign the result to e.\n"
   ]
  },
  {
   "cell_type": "code",
   "execution_count": 13,
   "metadata": {},
   "outputs": [
    {
     "data": {
      "text/plain": [
       "array([[[0.7876309 , 0.58625562, 0.11670891, 0.63880881, 0.78874415],\n",
       "        [0.46695047, 0.09601872, 0.84033469, 0.88726176, 0.10562818],\n",
       "        [0.06752735, 0.57507193, 0.39118953, 0.26461573, 0.24300379]],\n",
       "\n",
       "       [[0.58639376, 0.19097637, 0.63695705, 0.82543976, 0.8749271 ],\n",
       "        [0.06428118, 0.06096681, 0.29987612, 0.83118993, 0.64619216],\n",
       "        [0.0219458 , 0.25629004, 0.37182517, 0.13425789, 0.05776747]]])"
      ]
     },
     "execution_count": 13,
     "metadata": {},
     "output_type": "execute_result"
    }
   ],
   "source": [
    "e = a * c\n",
    "e"
   ]
  },
  {
   "cell_type": "markdown",
   "metadata": {},
   "source": [
    "\n",
    "\n",
    "### 13. Does e equal to a? Why or why not?\n"
   ]
  },
  {
   "cell_type": "code",
   "execution_count": 14,
   "metadata": {},
   "outputs": [
    {
     "name": "stdout",
     "output_type": "stream",
     "text": [
      "Does e equal a? True\n"
     ]
    }
   ],
   "source": [
    "print(\"Does e equal a?\", np.array_equal(e, a))\n",
    "# Because e is the product of a * c and c is an array of ones"
   ]
  },
  {
   "cell_type": "markdown",
   "metadata": {},
   "source": [
    "\n",
    "\n",
    "### 14. Identify the max, min, and mean values in d. Assign those values to variables \"d_max\", \"d_min\", and \"d_mean\"\n"
   ]
  },
  {
   "cell_type": "code",
   "execution_count": 15,
   "metadata": {},
   "outputs": [
    {
     "name": "stdout",
     "output_type": "stream",
     "text": [
      "d_max: 1.8872617638216642 \n",
      " d_min: 1.0219458000139654 \n",
      " d_mean: 1.4238345713233047\n"
     ]
    }
   ],
   "source": [
    "d_max = d.max()\n",
    "d_min = d.min()\n",
    "d_mean = d.mean()\n",
    "print(\"d_max:\", d_max, \"\\n\", \"d_min:\", d_min, \"\\n\",\"d_mean:\", d_mean)"
   ]
  },
  {
   "cell_type": "markdown",
   "metadata": {},
   "source": [
    "\n",
    "### 15. Now we want to label the values in d. First create an empty array \"f\" with the same shape (i.e. 2x3x5) as d using `np.empty`.\n"
   ]
  },
  {
   "cell_type": "code",
   "execution_count": 16,
   "metadata": {},
   "outputs": [],
   "source": [
    "#f = np.empty_like(d)\n",
    "f = np.empty((2,3,5))"
   ]
  },
  {
   "cell_type": "markdown",
   "metadata": {},
   "source": [
    "\n",
    "\n",
    "\n",
    "### 16. Populate the values in f. For each value in d, if it's larger than d_min but smaller than d_mean, assign 25 to the corresponding value in f.\n",
    "If a value in d is larger than d_mean but smaller than d_max, assign 75 to the corresponding value in f.\n",
    "If a value equals to d_mean, assign 50 to the corresponding value in f.\n",
    "Assign 0 to the corresponding value(s) in f for d_min in d.\n",
    "Assign 100 to the corresponding value(s) in f for d_max in d.\n",
    "In the end, f should have only the following values: 0, 25, 50, 75, and 100.\n",
    "Note: you don't have to use Numpy in this question.\n",
    "\n"
   ]
  },
  {
   "cell_type": "markdown",
   "metadata": {},
   "source": [
    "if d.max() > x > d.mean():\n",
    "    f[x,y,z] = 75\n",
    "elif value == d.mean():\n",
    "    f[x,y,z] = 50\n",
    "elif value == d.min():\n",
    "    f[x,y,z] = 0\n",
    "elif value == d.max():\n",
    "    f[x,y,z] = 100\n",
    "elif d.min() < value < d.mean():\n",
    "    f[x,y,z] = 50"
   ]
  },
  {
   "cell_type": "code",
   "execution_count": 17,
   "metadata": {},
   "outputs": [
    {
     "name": "stdout",
     "output_type": "stream",
     "text": [
      "d_max: 1.8872617638216642 \n",
      " d_min: 1.0219458000139654 \n",
      " d_mean: 1.4238345713233047\n"
     ]
    }
   ],
   "source": [
    "print(\"d_max:\", d_max, \"\\n\", \"d_min:\", d_min, \"\\n\",\"d_mean:\", d_mean)"
   ]
  },
  {
   "cell_type": "code",
   "execution_count": 18,
   "metadata": {},
   "outputs": [
    {
     "data": {
      "text/plain": [
       "array([[[1.7876309 , 1.58625562, 1.11670891, 1.63880881, 1.78874415],\n",
       "        [1.46695047, 1.09601872, 1.84033469, 1.88726176, 1.10562818],\n",
       "        [1.06752735, 1.57507193, 1.39118953, 1.26461573, 1.24300379]],\n",
       "\n",
       "       [[1.58639376, 1.19097637, 1.63695705, 1.82543976, 1.8749271 ],\n",
       "        [1.06428118, 1.06096681, 1.29987612, 1.83118993, 1.64619216],\n",
       "        [1.0219458 , 1.25629004, 1.37182517, 1.13425789, 1.05776747]]])"
      ]
     },
     "execution_count": 18,
     "metadata": {},
     "output_type": "execute_result"
    }
   ],
   "source": [
    "d"
   ]
  },
  {
   "cell_type": "code",
   "execution_count": 19,
   "metadata": {},
   "outputs": [
    {
     "data": {
      "text/plain": [
       "(2, 3, 5)"
      ]
     },
     "execution_count": 19,
     "metadata": {},
     "output_type": "execute_result"
    }
   ],
   "source": [
    "d.shape"
   ]
  },
  {
   "cell_type": "code",
   "execution_count": 20,
   "metadata": {},
   "outputs": [
    {
     "data": {
      "text/plain": [
       "array([[[ 75.,  75.,  25.,  75.,  75.],\n",
       "        [ 75.,  25.,  75., 100.,  25.],\n",
       "        [ 25.,  75.,  25.,  25.,  25.]],\n",
       "\n",
       "       [[ 75.,  25.,  75.,  75.,  75.],\n",
       "        [ 25.,  25.,  25.,  75.,  75.],\n",
       "        [  0.,  25.,  25.,  25.,  25.]]])"
      ]
     },
     "execution_count": 20,
     "metadata": {},
     "output_type": "execute_result"
    }
   ],
   "source": [
    "for x in range(2):\n",
    "    for y in range(3):\n",
    "        for z in range(5):\n",
    "            value = d[x,y,z]\n",
    "            if d.max() > value > d.mean():\n",
    "                f[x,y,z] = 75\n",
    "            elif value == d.mean():\n",
    "                f[x,y,z] = 50\n",
    "            elif value == d.min():\n",
    "                f[x,y,z] = 0\n",
    "            elif value == d.max():\n",
    "                f[x,y,z] = 100\n",
    "            elif d.min() < value < d.mean():\n",
    "                f[x,y,z] = 25\n",
    "f            "
   ]
  },
  {
   "cell_type": "markdown",
   "metadata": {},
   "source": [
    "\n",
    "\n",
    "\n",
    "\n",
    "### 17. Print d and f. Do you have your expected f?\n",
    "For instance, if your d is:\n",
    "array([[[1.85836099, 1.67064465, 1.62576044, 1.40243961, 1.88454931],\n",
    "        [1.75354326, 1.69403643, 1.36729252, 1.61415071, 1.12104981],\n",
    "        [1.72201435, 1.1862918 , 1.87078449, 1.7726778 , 1.88180042]],\n",
    "\n",
    "       [[1.44747908, 1.31673383, 1.02000951, 1.52218947, 1.97066381],\n",
    "        [1.79129243, 1.74983003, 1.96028037, 1.85166831, 1.65450881],\n",
    "        [1.18068344, 1.9587381 , 1.00656599, 1.93402165, 1.73514584]]])\n",
    "\n",
    "Your f should be:\n",
    "array([[[ 75.,  75.,  75.,  25.,  75.],\n",
    "        [ 75.,  75.,  25.,  25.,  25.],\n",
    "        [ 75.,  25.,  75.,  75.,  75.]],\n",
    "\n",
    "       [[ 25.,  25.,  25.,  25., 100.],\n",
    "        [ 75.,  75.,  75.,  75.,  75.],\n",
    "        [ 25.,  75.,   0.,  75.,  75.]]])\n",
    "\n"
   ]
  },
  {
   "cell_type": "code",
   "execution_count": 21,
   "metadata": {},
   "outputs": [
    {
     "name": "stdout",
     "output_type": "stream",
     "text": [
      "[[[1.7876309  1.58625562 1.11670891 1.63880881 1.78874415]\n",
      "  [1.46695047 1.09601872 1.84033469 1.88726176 1.10562818]\n",
      "  [1.06752735 1.57507193 1.39118953 1.26461573 1.24300379]]\n",
      "\n",
      " [[1.58639376 1.19097637 1.63695705 1.82543976 1.8749271 ]\n",
      "  [1.06428118 1.06096681 1.29987612 1.83118993 1.64619216]\n",
      "  [1.0219458  1.25629004 1.37182517 1.13425789 1.05776747]]]\n",
      "\n",
      "\n",
      "[[[ 75.  75.  25.  75.  75.]\n",
      "  [ 75.  25.  75. 100.  25.]\n",
      "  [ 25.  75.  25.  25.  25.]]\n",
      "\n",
      " [[ 75.  25.  75.  75.  75.]\n",
      "  [ 25.  25.  25.  75.  75.]\n",
      "  [  0.  25.  25.  25.  25.]]]\n"
     ]
    }
   ],
   "source": [
    "print(d)\n",
    "print(\"\\n\")\n",
    "print(f)"
   ]
  },
  {
   "cell_type": "markdown",
   "metadata": {},
   "source": [
    "### 18. Bonus question: instead of using numbers (i.e. 0, 25, 50, 75, and 100), how to use string values \n",
    "(\"A\", \"B\", \"C\", \"D\", and \"E\") to label the array elements? You are expecting the result to be:\n",
    "array([[[ 'D',  'D',  'D',  'B',  'D'],\n",
    "        [ 'D',  'D',  'B',  'B',  'B'],\n",
    "        [ 'D',  'B',  'D',  'D',  'D']],\n",
    "\n",
    "       [[ 'B',  'B',  'B',  'B',  'E'],\n",
    "        [ 'D',  'D',  'D',  'D',  'D'],\n",
    "        [ 'B',  'D',   'A',  'D', 'D']]])\n",
    "Again, you don't need Numpy in this question."
   ]
  },
  {
   "cell_type": "code",
   "execution_count": 27,
   "metadata": {},
   "outputs": [
    {
     "data": {
      "text/plain": [
       "array([[[None, None, None, None, None],\n",
       "        [None, None, None, None, None],\n",
       "        [None, None, None, None, None]],\n",
       "\n",
       "       [[None, None, None, None, None],\n",
       "        [None, None, None, None, None],\n",
       "        [None, None, None, None, None]]], dtype=object)"
      ]
     },
     "execution_count": 27,
     "metadata": {},
     "output_type": "execute_result"
    }
   ],
   "source": [
    "f_2 = np.empty((2,3,5), dtype = 'object')\n",
    "f_2"
   ]
  },
  {
   "cell_type": "code",
   "execution_count": 28,
   "metadata": {},
   "outputs": [
    {
     "data": {
      "text/plain": [
       "array([[['D', 'D', 'B', 'D', 'D'],\n",
       "        ['D', 'B', 'D', 'E', 'B'],\n",
       "        ['B', 'D', 'B', 'B', 'B']],\n",
       "\n",
       "       [['D', 'B', 'D', 'D', 'D'],\n",
       "        ['B', 'B', 'B', 'D', 'D'],\n",
       "        ['A', 'B', 'B', 'B', 'B']]], dtype=object)"
      ]
     },
     "execution_count": 28,
     "metadata": {},
     "output_type": "execute_result"
    }
   ],
   "source": [
    "for x in range(2):\n",
    "    for y in range(3):\n",
    "        for z in range(5):\n",
    "            value = d[x,y,z]\n",
    "            if d.max() > value > d.mean():\n",
    "                f_2[x,y,z] = \"D\"\n",
    "            elif value == d.mean():\n",
    "                f_2[x,y,z] = \"C\"\n",
    "            elif value == d.min():\n",
    "                f_2[x,y,z] = \"A\"\n",
    "            elif value == d.max():\n",
    "                f_2[x,y,z] = \"E\"\n",
    "            elif d.min() < value < d.mean():\n",
    "                f_2[x,y,z] = \"B\"\n",
    "f_2            "
   ]
  }
 ],
 "metadata": {
  "kernelspec": {
   "display_name": "Python 3 (ipykernel)",
   "language": "python",
   "name": "python3"
  },
  "language_info": {
   "codemirror_mode": {
    "name": "ipython",
    "version": 3
   },
   "file_extension": ".py",
   "mimetype": "text/x-python",
   "name": "python",
   "nbconvert_exporter": "python",
   "pygments_lexer": "ipython3",
   "version": "3.9.13"
  }
 },
 "nbformat": 4,
 "nbformat_minor": 2
}
